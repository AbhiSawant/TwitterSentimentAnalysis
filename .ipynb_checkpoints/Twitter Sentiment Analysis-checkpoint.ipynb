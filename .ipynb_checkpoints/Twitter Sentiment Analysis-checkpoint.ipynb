{
 "cells": [
  {
   "cell_type": "code",
   "execution_count": 32,
   "metadata": {},
   "outputs": [],
   "source": [
    "import numpy as np\n",
    "import pandas as pd\n",
    "import matplotlib.pyplot as plt\n",
    "import re"
   ]
  },
  {
   "cell_type": "code",
   "execution_count": 3,
   "metadata": {},
   "outputs": [],
   "source": [
    "train = pd.read_csv('Train_data.csv')\n",
    "test = pd.read_csv('Test_data.csv')"
   ]
  },
  {
   "cell_type": "code",
   "execution_count": 113,
   "metadata": {},
   "outputs": [],
   "source": [
    "# List of all functions:\n",
    "    \n",
    "def df_details(df):\n",
    "    \n",
    "    print(\"Shape of df: \", df.shape)\n",
    "    print(\"No of cols: \", len(df.columns))\n",
    "    print(\"Column names: \", list(df.columns))\n",
    "    print()\n",
    "    print(\"Missing data in columns: \")\n",
    "    print(df.isna().sum())\n",
    "    print()\n",
    "    print(df.describe())\n",
    "    \n",
    "    \n",
    "def extract_hastags(text):   \n",
    "    return list(re.findall(\"[#]\\w+\", text))\n",
    "\n",
    "\n",
    "def extract_mentions(text):    \n",
    "    return re.findall(\"[@]\\w+\", text)\n",
    "\n",
    "\n",
    "def extract_urls(text):    \n",
    "    return [i[0] for i in re.findall(r\"(https?:\\/\\/(www\\.)?[-a-zA-Z0-9@:%._\\+~#=]{1,256})\", text)]"
   ]
  },
  {
   "cell_type": "code",
   "execution_count": 23,
   "metadata": {},
   "outputs": [
    {
     "name": "stdout",
     "output_type": "stream",
     "text": [
      "Shape of df:  (7920, 3)\n",
      "No of cols:  3\n",
      "Column names:  ['id', 'label', 'tweet']\n",
      "\n",
      "Missing data in columns: \n",
      "id       0\n",
      "label    0\n",
      "tweet    0\n",
      "dtype: int64\n",
      "\n",
      "                id        label\n",
      "count  7920.000000  7920.000000\n",
      "mean   3960.500000     0.255808\n",
      "std    2286.451399     0.436342\n",
      "min       1.000000     0.000000\n",
      "25%    1980.750000     0.000000\n",
      "50%    3960.500000     0.000000\n",
      "75%    5940.250000     1.000000\n",
      "max    7920.000000     1.000000\n"
     ]
    }
   ],
   "source": [
    "df_details(train)"
   ]
  },
  {
   "cell_type": "code",
   "execution_count": 24,
   "metadata": {},
   "outputs": [
    {
     "name": "stdout",
     "output_type": "stream",
     "text": [
      "Shape of df:  (1953, 2)\n",
      "No of cols:  2\n",
      "Column names:  ['id', 'tweet']\n",
      "\n",
      "Missing data in columns: \n",
      "id       0\n",
      "tweet    0\n",
      "dtype: int64\n",
      "\n",
      "                id\n",
      "count  1953.000000\n",
      "mean   8897.000000\n",
      "std     563.926857\n",
      "min    7921.000000\n",
      "25%    8409.000000\n",
      "50%    8897.000000\n",
      "75%    9385.000000\n",
      "max    9873.000000\n"
     ]
    }
   ],
   "source": [
    "df_details(test)"
   ]
  },
  {
   "cell_type": "code",
   "execution_count": 25,
   "metadata": {},
   "outputs": [],
   "source": [
    "train['Train_Test'] = 'Train'\n",
    "test['Train_Test'] = 'Test'"
   ]
  },
  {
   "cell_type": "code",
   "execution_count": 26,
   "metadata": {},
   "outputs": [
    {
     "data": {
      "text/html": [
       "<div>\n",
       "<style scoped>\n",
       "    .dataframe tbody tr th:only-of-type {\n",
       "        vertical-align: middle;\n",
       "    }\n",
       "\n",
       "    .dataframe tbody tr th {\n",
       "        vertical-align: top;\n",
       "    }\n",
       "\n",
       "    .dataframe thead th {\n",
       "        text-align: right;\n",
       "    }\n",
       "</style>\n",
       "<table border=\"1\" class=\"dataframe\">\n",
       "  <thead>\n",
       "    <tr style=\"text-align: right;\">\n",
       "      <th></th>\n",
       "      <th>id</th>\n",
       "      <th>label</th>\n",
       "      <th>tweet</th>\n",
       "      <th>Train_Test</th>\n",
       "    </tr>\n",
       "  </thead>\n",
       "  <tbody>\n",
       "    <tr>\n",
       "      <th>0</th>\n",
       "      <td>1</td>\n",
       "      <td>0</td>\n",
       "      <td>#fingerprint #Pregnancy Test https://goo.gl/h1...</td>\n",
       "      <td>Train</td>\n",
       "    </tr>\n",
       "    <tr>\n",
       "      <th>1</th>\n",
       "      <td>2</td>\n",
       "      <td>0</td>\n",
       "      <td>Finally a transparant silicon case ^^ Thanks t...</td>\n",
       "      <td>Train</td>\n",
       "    </tr>\n",
       "    <tr>\n",
       "      <th>2</th>\n",
       "      <td>3</td>\n",
       "      <td>0</td>\n",
       "      <td>We love this! Would you go? #talk #makememorie...</td>\n",
       "      <td>Train</td>\n",
       "    </tr>\n",
       "    <tr>\n",
       "      <th>3</th>\n",
       "      <td>4</td>\n",
       "      <td>0</td>\n",
       "      <td>I'm wired I know I'm George I was made that wa...</td>\n",
       "      <td>Train</td>\n",
       "    </tr>\n",
       "    <tr>\n",
       "      <th>4</th>\n",
       "      <td>5</td>\n",
       "      <td>1</td>\n",
       "      <td>What amazing service! Apple won't even talk to...</td>\n",
       "      <td>Train</td>\n",
       "    </tr>\n",
       "  </tbody>\n",
       "</table>\n",
       "</div>"
      ],
      "text/plain": [
       "   id  label                                              tweet Train_Test\n",
       "0   1      0  #fingerprint #Pregnancy Test https://goo.gl/h1...      Train\n",
       "1   2      0  Finally a transparant silicon case ^^ Thanks t...      Train\n",
       "2   3      0  We love this! Would you go? #talk #makememorie...      Train\n",
       "3   4      0  I'm wired I know I'm George I was made that wa...      Train\n",
       "4   5      1  What amazing service! Apple won't even talk to...      Train"
      ]
     },
     "execution_count": 26,
     "metadata": {},
     "output_type": "execute_result"
    }
   ],
   "source": [
    "train.head()"
   ]
  },
  {
   "cell_type": "code",
   "execution_count": 28,
   "metadata": {},
   "outputs": [
    {
     "data": {
      "text/html": [
       "<div>\n",
       "<style scoped>\n",
       "    .dataframe tbody tr th:only-of-type {\n",
       "        vertical-align: middle;\n",
       "    }\n",
       "\n",
       "    .dataframe tbody tr th {\n",
       "        vertical-align: top;\n",
       "    }\n",
       "\n",
       "    .dataframe thead th {\n",
       "        text-align: right;\n",
       "    }\n",
       "</style>\n",
       "<table border=\"1\" class=\"dataframe\">\n",
       "  <thead>\n",
       "    <tr style=\"text-align: right;\">\n",
       "      <th></th>\n",
       "      <th>id</th>\n",
       "      <th>tweet</th>\n",
       "      <th>Train_Test</th>\n",
       "    </tr>\n",
       "  </thead>\n",
       "  <tbody>\n",
       "    <tr>\n",
       "      <th>0</th>\n",
       "      <td>7921</td>\n",
       "      <td>I hate the new #iphone upgrade. Won't let me d...</td>\n",
       "      <td>Test</td>\n",
       "    </tr>\n",
       "    <tr>\n",
       "      <th>1</th>\n",
       "      <td>7922</td>\n",
       "      <td>currently shitting my fucking pants. #apple #i...</td>\n",
       "      <td>Test</td>\n",
       "    </tr>\n",
       "    <tr>\n",
       "      <th>2</th>\n",
       "      <td>7923</td>\n",
       "      <td>I'd like to puts some CD-ROMS on my iPad, is t...</td>\n",
       "      <td>Test</td>\n",
       "    </tr>\n",
       "    <tr>\n",
       "      <th>3</th>\n",
       "      <td>7924</td>\n",
       "      <td>My ipod is officially dead. I lost all my pict...</td>\n",
       "      <td>Test</td>\n",
       "    </tr>\n",
       "    <tr>\n",
       "      <th>4</th>\n",
       "      <td>7925</td>\n",
       "      <td>Been fighting iTunes all night! I only want th...</td>\n",
       "      <td>Test</td>\n",
       "    </tr>\n",
       "  </tbody>\n",
       "</table>\n",
       "</div>"
      ],
      "text/plain": [
       "     id                                              tweet Train_Test\n",
       "0  7921  I hate the new #iphone upgrade. Won't let me d...       Test\n",
       "1  7922  currently shitting my fucking pants. #apple #i...       Test\n",
       "2  7923  I'd like to puts some CD-ROMS on my iPad, is t...       Test\n",
       "3  7924  My ipod is officially dead. I lost all my pict...       Test\n",
       "4  7925  Been fighting iTunes all night! I only want th...       Test"
      ]
     },
     "execution_count": 28,
     "metadata": {},
     "output_type": "execute_result"
    }
   ],
   "source": [
    "test.head()"
   ]
  },
  {
   "cell_type": "code",
   "execution_count": 30,
   "metadata": {},
   "outputs": [],
   "source": [
    "df = train.append(test)"
   ]
  },
  {
   "cell_type": "code",
   "execution_count": 31,
   "metadata": {},
   "outputs": [
    {
     "name": "stdout",
     "output_type": "stream",
     "text": [
      "Shape of df:  (9873, 4)\n",
      "No of cols:  4\n",
      "Column names:  ['id', 'label', 'tweet', 'Train_Test']\n",
      "\n",
      "Missing data in columns: \n",
      "id               0\n",
      "label         1953\n",
      "tweet            0\n",
      "Train_Test       0\n",
      "dtype: int64\n",
      "\n",
      "                id        label\n",
      "count  9873.000000  7920.000000\n",
      "mean   4937.000000     0.255808\n",
      "std    2850.233938     0.436342\n",
      "min       1.000000     0.000000\n",
      "25%    2469.000000     0.000000\n",
      "50%    4937.000000     0.000000\n",
      "75%    7405.000000     1.000000\n",
      "max    9873.000000     1.000000\n"
     ]
    }
   ],
   "source": [
    "df_details(df)"
   ]
  },
  {
   "cell_type": "code",
   "execution_count": 111,
   "metadata": {},
   "outputs": [],
   "source": [
    "df['Hastags'] = df.tweet.apply(extract_hastags)\n",
    "df['User Mentions'] = df.tweet.apply(extract_mentions)\n",
    "df['URL'] = df.tweet.apply(extract_urls)"
   ]
  },
  {
   "cell_type": "code",
   "execution_count": 112,
   "metadata": {},
   "outputs": [
    {
     "data": {
      "text/html": [
       "<div>\n",
       "<style scoped>\n",
       "    .dataframe tbody tr th:only-of-type {\n",
       "        vertical-align: middle;\n",
       "    }\n",
       "\n",
       "    .dataframe tbody tr th {\n",
       "        vertical-align: top;\n",
       "    }\n",
       "\n",
       "    .dataframe thead th {\n",
       "        text-align: right;\n",
       "    }\n",
       "</style>\n",
       "<table border=\"1\" class=\"dataframe\">\n",
       "  <thead>\n",
       "    <tr style=\"text-align: right;\">\n",
       "      <th></th>\n",
       "      <th>id</th>\n",
       "      <th>label</th>\n",
       "      <th>tweet</th>\n",
       "      <th>Train_Test</th>\n",
       "      <th>Hastags</th>\n",
       "      <th>User Mentions</th>\n",
       "      <th>URL</th>\n",
       "    </tr>\n",
       "  </thead>\n",
       "  <tbody>\n",
       "    <tr>\n",
       "      <th>0</th>\n",
       "      <td>1</td>\n",
       "      <td>0.0</td>\n",
       "      <td>#fingerprint #Pregnancy Test https://goo.gl/h1...</td>\n",
       "      <td>Train</td>\n",
       "      <td>[#fingerprint, #Pregnancy, #android, #apps, #b...</td>\n",
       "      <td>[]</td>\n",
       "      <td>[https://goo.gl]</td>\n",
       "    </tr>\n",
       "    <tr>\n",
       "      <th>1</th>\n",
       "      <td>2</td>\n",
       "      <td>0.0</td>\n",
       "      <td>Finally a transparant silicon case ^^ Thanks t...</td>\n",
       "      <td>Train</td>\n",
       "      <td>[#yay, #Sony, #Xperia, #S, #sonyexperias]</td>\n",
       "      <td>[]</td>\n",
       "      <td>[http://instagram.com]</td>\n",
       "    </tr>\n",
       "    <tr>\n",
       "      <th>2</th>\n",
       "      <td>3</td>\n",
       "      <td>0.0</td>\n",
       "      <td>We love this! Would you go? #talk #makememorie...</td>\n",
       "      <td>Train</td>\n",
       "      <td>[#talk, #makememories, #unplug, #relax, #iphon...</td>\n",
       "      <td>[]</td>\n",
       "      <td>[http://fb.me]</td>\n",
       "    </tr>\n",
       "    <tr>\n",
       "      <th>3</th>\n",
       "      <td>4</td>\n",
       "      <td>0.0</td>\n",
       "      <td>I'm wired I know I'm George I was made that wa...</td>\n",
       "      <td>Train</td>\n",
       "      <td>[#iphone, #cute, #daventry, #home]</td>\n",
       "      <td>[]</td>\n",
       "      <td>[http://instagr.am]</td>\n",
       "    </tr>\n",
       "    <tr>\n",
       "      <th>4</th>\n",
       "      <td>5</td>\n",
       "      <td>1.0</td>\n",
       "      <td>What amazing service! Apple won't even talk to...</td>\n",
       "      <td>Train</td>\n",
       "      <td>[]</td>\n",
       "      <td>[]</td>\n",
       "      <td>[]</td>\n",
       "    </tr>\n",
       "  </tbody>\n",
       "</table>\n",
       "</div>"
      ],
      "text/plain": [
       "   id  label                                              tweet Train_Test  \\\n",
       "0   1    0.0  #fingerprint #Pregnancy Test https://goo.gl/h1...      Train   \n",
       "1   2    0.0  Finally a transparant silicon case ^^ Thanks t...      Train   \n",
       "2   3    0.0  We love this! Would you go? #talk #makememorie...      Train   \n",
       "3   4    0.0  I'm wired I know I'm George I was made that wa...      Train   \n",
       "4   5    1.0  What amazing service! Apple won't even talk to...      Train   \n",
       "\n",
       "                                             Hastags User Mentions  \\\n",
       "0  [#fingerprint, #Pregnancy, #android, #apps, #b...            []   \n",
       "1          [#yay, #Sony, #Xperia, #S, #sonyexperias]            []   \n",
       "2  [#talk, #makememories, #unplug, #relax, #iphon...            []   \n",
       "3                 [#iphone, #cute, #daventry, #home]            []   \n",
       "4                                                 []            []   \n",
       "\n",
       "                      URL  \n",
       "0        [https://goo.gl]  \n",
       "1  [http://instagram.com]  \n",
       "2          [http://fb.me]  \n",
       "3     [http://instagr.am]  \n",
       "4                      []  "
      ]
     },
     "execution_count": 112,
     "metadata": {},
     "output_type": "execute_result"
    }
   ],
   "source": [
    "df.head()"
   ]
  },
  {
   "cell_type": "code",
   "execution_count": null,
   "metadata": {},
   "outputs": [],
   "source": []
  },
  {
   "cell_type": "code",
   "execution_count": null,
   "metadata": {},
   "outputs": [],
   "source": []
  }
 ],
 "metadata": {
  "kernelspec": {
   "display_name": "Python 3",
   "language": "python",
   "name": "python3"
  },
  "language_info": {
   "codemirror_mode": {
    "name": "ipython",
    "version": 3
   },
   "file_extension": ".py",
   "mimetype": "text/x-python",
   "name": "python",
   "nbconvert_exporter": "python",
   "pygments_lexer": "ipython3",
   "version": "3.7.4"
  }
 },
 "nbformat": 4,
 "nbformat_minor": 2
}
